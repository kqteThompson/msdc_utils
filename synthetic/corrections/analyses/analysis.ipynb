{
 "cells": [
  {
   "cell_type": "code",
   "execution_count": 1,
   "metadata": {},
   "outputs": [],
   "source": [
    "import os\n",
    "import csv\n",
    "import json\n",
    "import pandas as pd\n",
    "from collections import Counter, defaultdict\n",
    "from sample_descriptions import get_desc_200, get_desc_300"
   ]
  },
  {
   "cell_type": "markdown",
   "metadata": {},
   "source": [
    "``` \n",
    "0 Correct\n",
    "--------------\n",
    "Moves to change correct structure but\n",
    "1 builds over existing structure/in line with structure but not touching\n",
    "2 adds to structure but adds too many\n",
    "3 just picks and places one block (or two blocks)\n",
    "4 makes pick moves instead of place (NB sometimes these are picks of blocks that aren’t there)\n",
    "5 makes incoherent builds\n",
    "(e.g. adds a tower instead of a row, builds a new structure, starts far away etc,)\n",
    "--------\n",
    "6 Moves to change wrong structure\n",
    "7 Moves to change both (all) structures and changes correct one correctly\n",
    "8 Moves to change both (all) structures and neither is correctly changed\n",
    "9 Just starts building somewhere else on board\n",
    "10 Correct placement, wrong color\n",
    "```"
   ]
  },
  {
   "cell_type": "markdown",
   "metadata": {},
   "source": [
    "```\n",
    "\n",
    "200\n",
    "Counter({'TT': 56, 'TB': 56, 'RB': 48, 'RT': 40})\n",
    "Counter({'different': 167, 'two same': 33})\n",
    "\n",
    "300\n",
    "Counter({'TBB': 48, 'RBB': 38, 'RTB': 37, 'TTT': 37, 'RTT': 37, 'TTB': 36, 'TBT': 35, 'RBT': 32})\n",
    "Counter({'different': 165, 'two same': 125, 'three same': 10})\n",
    "\n",
    "```"
   ]
  },
  {
   "cell_type": "code",
   "execution_count": 40,
   "metadata": {},
   "outputs": [],
   "source": [
    "home=%pwd\n",
    "# csv_path = home + '/Corr-synth-Long.csv'\n",
    "csv_path = home + '/Corr-synth-Short.csv'"
   ]
  },
  {
   "cell_type": "code",
   "execution_count": 41,
   "metadata": {},
   "outputs": [],
   "source": [
    "df = pd.read_csv(csv_path)"
   ]
  },
  {
   "cell_type": "code",
   "execution_count": 42,
   "metadata": {},
   "outputs": [
    {
     "data": {
      "text/plain": [
       "(200, 9)"
      ]
     },
     "execution_count": 42,
     "metadata": {},
     "output_type": "execute_result"
    }
   ],
   "source": [
    "df.shape"
   ]
  },
  {
   "cell_type": "code",
   "execution_count": 43,
   "metadata": {},
   "outputs": [],
   "source": [
    "with open('/home/kate/minecraft_utils/synthetic/corrections/synthetic_corrections_short_check_freeze.txt') as f:\n",
    "    samples = f.read().split('\\n')"
   ]
  },
  {
   "cell_type": "code",
   "execution_count": 44,
   "metadata": {},
   "outputs": [],
   "source": [
    "# colors, shapes = get_desc_300(samples)\n",
    "colors, shapes = get_desc_200(samples)"
   ]
  },
  {
   "cell_type": "code",
   "execution_count": 45,
   "metadata": {},
   "outputs": [],
   "source": [
    "df = df.assign(COLORS=colors)"
   ]
  },
  {
   "cell_type": "code",
   "execution_count": 46,
   "metadata": {},
   "outputs": [],
   "source": [
    "df = df.assign(SHAPES=shapes)"
   ]
  },
  {
   "cell_type": "code",
   "execution_count": 47,
   "metadata": {},
   "outputs": [],
   "source": [
    "merge_row = []\n",
    "for i, s in enumerate(colors):\n",
    "    merge_row.append(shapes[i] + s)"
   ]
  },
  {
   "cell_type": "code",
   "execution_count": 48,
   "metadata": {},
   "outputs": [],
   "source": [
    "df = df.assign(MERGE=merge_row)"
   ]
  },
  {
   "cell_type": "code",
   "execution_count": 49,
   "metadata": {},
   "outputs": [
    {
     "data": {
      "text/html": [
       "<div>\n",
       "<style scoped>\n",
       "    .dataframe tbody tr th:only-of-type {\n",
       "        vertical-align: middle;\n",
       "    }\n",
       "\n",
       "    .dataframe tbody tr th {\n",
       "        vertical-align: top;\n",
       "    }\n",
       "\n",
       "    .dataframe thead th {\n",
       "        text-align: right;\n",
       "    }\n",
       "</style>\n",
       "<table border=\"1\" class=\"dataframe\">\n",
       "  <thead>\n",
       "    <tr style=\"text-align: right;\">\n",
       "      <th></th>\n",
       "      <th>SAMPLE</th>\n",
       "      <th>Type</th>\n",
       "      <th>LLAMIPA-P</th>\n",
       "      <th>BASELINE</th>\n",
       "      <th>STRUCT</th>\n",
       "      <th>NO_STRUCT</th>\n",
       "      <th>NARR_ARC</th>\n",
       "      <th>FULL_STRUCT</th>\n",
       "      <th>FULL_NO_STRUCT</th>\n",
       "      <th>COLORS</th>\n",
       "      <th>SHAPES</th>\n",
       "      <th>MERGE</th>\n",
       "    </tr>\n",
       "  </thead>\n",
       "  <tbody>\n",
       "    <tr>\n",
       "      <th>0</th>\n",
       "      <td>1</td>\n",
       "      <td>2</td>\n",
       "      <td>1</td>\n",
       "      <td>8</td>\n",
       "      <td>0</td>\n",
       "      <td>1</td>\n",
       "      <td>4</td>\n",
       "      <td>0</td>\n",
       "      <td>0</td>\n",
       "      <td>D</td>\n",
       "      <td>TT</td>\n",
       "      <td>TTD</td>\n",
       "    </tr>\n",
       "    <tr>\n",
       "      <th>1</th>\n",
       "      <td>2</td>\n",
       "      <td>2</td>\n",
       "      <td>2</td>\n",
       "      <td>0</td>\n",
       "      <td>0</td>\n",
       "      <td>1</td>\n",
       "      <td>8</td>\n",
       "      <td>0</td>\n",
       "      <td>0</td>\n",
       "      <td>D</td>\n",
       "      <td>RB</td>\n",
       "      <td>RBD</td>\n",
       "    </tr>\n",
       "    <tr>\n",
       "      <th>2</th>\n",
       "      <td>3</td>\n",
       "      <td>2</td>\n",
       "      <td>1</td>\n",
       "      <td>6</td>\n",
       "      <td>0</td>\n",
       "      <td>0</td>\n",
       "      <td>0</td>\n",
       "      <td>4</td>\n",
       "      <td>6</td>\n",
       "      <td>2S</td>\n",
       "      <td>TT</td>\n",
       "      <td>TT2S</td>\n",
       "    </tr>\n",
       "    <tr>\n",
       "      <th>3</th>\n",
       "      <td>4</td>\n",
       "      <td>2</td>\n",
       "      <td>1</td>\n",
       "      <td>6</td>\n",
       "      <td>0</td>\n",
       "      <td>0</td>\n",
       "      <td>6</td>\n",
       "      <td>4</td>\n",
       "      <td>4</td>\n",
       "      <td>2S</td>\n",
       "      <td>TT</td>\n",
       "      <td>TT2S</td>\n",
       "    </tr>\n",
       "    <tr>\n",
       "      <th>4</th>\n",
       "      <td>5</td>\n",
       "      <td>2</td>\n",
       "      <td>2</td>\n",
       "      <td>0</td>\n",
       "      <td>7</td>\n",
       "      <td>8</td>\n",
       "      <td>0</td>\n",
       "      <td>3</td>\n",
       "      <td>0</td>\n",
       "      <td>2S</td>\n",
       "      <td>TB</td>\n",
       "      <td>TB2S</td>\n",
       "    </tr>\n",
       "    <tr>\n",
       "      <th>5</th>\n",
       "      <td>6</td>\n",
       "      <td>2</td>\n",
       "      <td>2</td>\n",
       "      <td>1</td>\n",
       "      <td>1</td>\n",
       "      <td>1</td>\n",
       "      <td>1</td>\n",
       "      <td>5</td>\n",
       "      <td>4</td>\n",
       "      <td>D</td>\n",
       "      <td>RB</td>\n",
       "      <td>RBD</td>\n",
       "    </tr>\n",
       "    <tr>\n",
       "      <th>6</th>\n",
       "      <td>7</td>\n",
       "      <td>2</td>\n",
       "      <td>1</td>\n",
       "      <td>0</td>\n",
       "      <td>2</td>\n",
       "      <td>1</td>\n",
       "      <td>4</td>\n",
       "      <td>0</td>\n",
       "      <td>0</td>\n",
       "      <td>D</td>\n",
       "      <td>RT</td>\n",
       "      <td>RTD</td>\n",
       "    </tr>\n",
       "    <tr>\n",
       "      <th>7</th>\n",
       "      <td>8</td>\n",
       "      <td>2</td>\n",
       "      <td>2</td>\n",
       "      <td>0</td>\n",
       "      <td>0</td>\n",
       "      <td>1</td>\n",
       "      <td>0</td>\n",
       "      <td>0</td>\n",
       "      <td>0</td>\n",
       "      <td>D</td>\n",
       "      <td>TB</td>\n",
       "      <td>TBD</td>\n",
       "    </tr>\n",
       "    <tr>\n",
       "      <th>8</th>\n",
       "      <td>9</td>\n",
       "      <td>2</td>\n",
       "      <td>2</td>\n",
       "      <td>0</td>\n",
       "      <td>0</td>\n",
       "      <td>1</td>\n",
       "      <td>0</td>\n",
       "      <td>0</td>\n",
       "      <td>0</td>\n",
       "      <td>D</td>\n",
       "      <td>TB</td>\n",
       "      <td>TBD</td>\n",
       "    </tr>\n",
       "    <tr>\n",
       "      <th>9</th>\n",
       "      <td>10</td>\n",
       "      <td>2</td>\n",
       "      <td>2</td>\n",
       "      <td>0</td>\n",
       "      <td>0</td>\n",
       "      <td>0</td>\n",
       "      <td>0</td>\n",
       "      <td>0</td>\n",
       "      <td>0</td>\n",
       "      <td>D</td>\n",
       "      <td>RB</td>\n",
       "      <td>RBD</td>\n",
       "    </tr>\n",
       "  </tbody>\n",
       "</table>\n",
       "</div>"
      ],
      "text/plain": [
       "   SAMPLE  Type  LLAMIPA-P  BASELINE  STRUCT  NO_STRUCT  NARR_ARC  \\\n",
       "0       1     2          1         8       0          1         4   \n",
       "1       2     2          2         0       0          1         8   \n",
       "2       3     2          1         6       0          0         0   \n",
       "3       4     2          1         6       0          0         6   \n",
       "4       5     2          2         0       7          8         0   \n",
       "5       6     2          2         1       1          1         1   \n",
       "6       7     2          1         0       2          1         4   \n",
       "7       8     2          2         0       0          1         0   \n",
       "8       9     2          2         0       0          1         0   \n",
       "9      10     2          2         0       0          0         0   \n",
       "\n",
       "   FULL_STRUCT  FULL_NO_STRUCT COLORS SHAPES MERGE  \n",
       "0            0               0      D     TT   TTD  \n",
       "1            0               0      D     RB   RBD  \n",
       "2            4               6     2S     TT  TT2S  \n",
       "3            4               4     2S     TT  TT2S  \n",
       "4            3               0     2S     TB  TB2S  \n",
       "5            5               4      D     RB   RBD  \n",
       "6            0               0      D     RT   RTD  \n",
       "7            0               0      D     TB   TBD  \n",
       "8            0               0      D     TB   TBD  \n",
       "9            0               0      D     RB   RBD  "
      ]
     },
     "execution_count": 49,
     "metadata": {},
     "output_type": "execute_result"
    }
   ],
   "source": [
    "df.head(10)"
   ]
  },
  {
   "cell_type": "code",
   "execution_count": 50,
   "metadata": {},
   "outputs": [
    {
     "data": {
      "text/plain": [
       "Counter({2: 60})"
      ]
     },
     "execution_count": 50,
     "metadata": {},
     "output_type": "execute_result"
    }
   ],
   "source": [
    "#LLamipa scores\n",
    "# df[(df['LLAMIPA-P'] == 2)&(df['Type'] == 2)]\n",
    "Counter(df[df['LLAMIPA-P'] != df['Type']]['Type'].tolist())"
   ]
  },
  {
   "cell_type": "markdown",
   "metadata": {},
   "source": [
    "##### what are samples with llamipa mistakes?"
   ]
  },
  {
   "cell_type": "code",
   "execution_count": 78,
   "metadata": {},
   "outputs": [
    {
     "data": {
      "text/plain": [
       "Counter({'2S': 16, 'D': 13, '3S': 3})"
      ]
     },
     "execution_count": 78,
     "metadata": {},
     "output_type": "execute_result"
    }
   ],
   "source": [
    "Counter(df[df['LLAMIPA-P'] != df['Type']]['COLORS'].tolist())\n",
    "#Counter(df.loc[df['Type']== 3]['COLORS'].tolist())\n",
    "# Counter(df['COLORS'].tolist())"
   ]
  },
  {
   "cell_type": "code",
   "execution_count": 77,
   "metadata": {},
   "outputs": [
    {
     "data": {
      "text/plain": [
       "Counter({'TTT': 12,\n",
       "         'RTT': 6,\n",
       "         'TTB': 4,\n",
       "         'TBT': 3,\n",
       "         'RBT': 3,\n",
       "         'RTB': 2,\n",
       "         'TBB': 2})"
      ]
     },
     "execution_count": 77,
     "metadata": {},
     "output_type": "execute_result"
    }
   ],
   "source": [
    "Counter(df[df['LLAMIPA-P'] != df['Type']]['SHAPES'].tolist())\n",
    "#Counter(df.loc[df['Type'] == 3]['SHAPES'].tolist())\n",
    "#Counter(df['SHAPES'].tolist())"
   ]
  },
  {
   "cell_type": "code",
   "execution_count": 111,
   "metadata": {},
   "outputs": [
    {
     "data": {
      "text/plain": [
       "Counter({'TTD': 48,\n",
       "         'TBD': 46,\n",
       "         'RBD': 42,\n",
       "         'RTD': 31,\n",
       "         'TB2S': 10,\n",
       "         'RT2S': 9,\n",
       "         'TT2S': 8,\n",
       "         'RB2S': 6})"
      ]
     },
     "execution_count": 111,
     "metadata": {},
     "output_type": "execute_result"
    }
   ],
   "source": [
    "Counter(df['MERGE'].tolist())\n",
    "#len(df['MERGE'].tolist())\n",
    "#Counter(df.loc[df['Type']== 3]['MERGE'].tolist())\n",
    "#len(df.loc[df['Type']== 3]['MERGE'].tolist())\n",
    "#df[(df['Type'] == 2)&(df['SHAPES'].isin(['RTB', 'RBT']))&(df['COLORS']).isin(['2S', '3S'])].shape[0]\n",
    "#df[(df['Type'] == 2)&(df['SHAPES'].isin(['RTB', 'RBT']))&(df['COLORS']).isin(['D'])].shape[0]\n",
    "#df[(df['Type'] == 2)&(~df['SHAPES'].isin(['RTB', 'RBT']))&(df['COLORS']).isin(['D'])].shape[0]"
   ]
  },
  {
   "cell_type": "code",
   "execution_count": 14,
   "metadata": {},
   "outputs": [
    {
     "data": {
      "text/plain": [
       "14"
      ]
     },
     "execution_count": 14,
     "metadata": {},
     "output_type": "execute_result"
    }
   ],
   "source": [
    "#only shape ambiguous \n",
    "#df[(df['Type'] == 3)&(~df['SHAPES'].isin(['RTB', 'RBT']))&(df['COLORS'].isin(['D'])&(df['LLAMIPA-P'] != df['Type']))].shape[0]\n",
    "#only color ambiguous\n",
    "#df[(df['Type'] == 3)&(df['SHAPES'].isin(['RTB', 'RBT']))&(~df['COLORS'].isin(['D'])&(df['LLAMIPA-P'] != df['Type']))].shape[0]\n",
    "#no ambiguity and llamipa wrong\n",
    "#df[(df['Type'] == 3)&(df['SHAPES'].isin(['RTB', 'RBT']))&(df['COLORS'].isin(['D'])&(df['LLAMIPA-P'] != df['Type']))].shape[0]\n",
    "#both ambiguous \n",
    "df[(df['Type'] == 3)&(~df['SHAPES'].isin(['RTB', 'RBT']))&(~df['COLORS'].isin(['D'])&(df['LLAMIPA-P'] != df['Type']))].shape[0]"
   ]
  },
  {
   "cell_type": "markdown",
   "metadata": {},
   "source": [
    "##### checking the ambiguities associated with wrong shapes"
   ]
  },
  {
   "cell_type": "code",
   "execution_count": 73,
   "metadata": {},
   "outputs": [
    {
     "data": {
      "text/plain": [
       "Counter({2: 1})"
      ]
     },
     "execution_count": 73,
     "metadata": {},
     "output_type": "execute_result"
    }
   ],
   "source": [
    "#both ambiguous\n",
    "#Counter(df[(df['NO_STRUCT'].isin([6,7,8,9]))&(~df['SHAPES'].isin(['RTB', 'RBT']))&(~df['COLORS'].isin(['D']))]['Type'])\n",
    "Counter(df[(df['NARR_ARC'].isin([6,7,8,9]))&(~df['SHAPES'].isin(['RT', 'RB', 'TB']))&(~df['COLORS'].isin(['D']))]['Type'])"
   ]
  },
  {
   "cell_type": "code",
   "execution_count": 74,
   "metadata": {},
   "outputs": [
    {
     "data": {
      "text/plain": [
       "Counter({2: 14, 1: 1})"
      ]
     },
     "execution_count": 74,
     "metadata": {},
     "output_type": "execute_result"
    }
   ],
   "source": [
    "#no ambiguity\n",
    "# Counter(df[(df['NO_STRUCT'].isin([6,7,8,9]))&(df['SHAPES'].isin(['RTB', 'RBT']))&(df['COLORS'].isin(['D']))]['Type'])\n",
    "Counter(df[(df['NARR_ARC'].isin([6,7,8,9]))&(df['SHAPES'].isin(['RT', 'RB', 'TB']))&(df['COLORS'].isin(['D']))]['Type'])"
   ]
  },
  {
   "cell_type": "code",
   "execution_count": 75,
   "metadata": {},
   "outputs": [
    {
     "data": {
      "text/plain": [
       "Counter({2: 7})"
      ]
     },
     "execution_count": 75,
     "metadata": {},
     "output_type": "execute_result"
    }
   ],
   "source": [
    "#only color ambiguous\n",
    "#Counter(df[(df['NO_STRUCT'].isin([6,7,8,9]))&(df['SHAPES'].isin(['RTB', 'RBT']))&(~df['COLORS'].isin(['D']))]['Type'])\n",
    "Counter(df[(df['NARR_ARC'].isin([6,7,8,9]))&(df['SHAPES'].isin(['RT', 'RB', 'TB']))&(~df['COLORS'].isin(['D']))]['Type'])"
   ]
  },
  {
   "cell_type": "code",
   "execution_count": 76,
   "metadata": {},
   "outputs": [
    {
     "data": {
      "text/plain": [
       "Counter()"
      ]
     },
     "execution_count": 76,
     "metadata": {},
     "output_type": "execute_result"
    }
   ],
   "source": [
    "#only shape ambiguous\n",
    "# Counter(df[(df['NO_STRUCT'].isin([6,7,8,9]))&(~df['SHAPES'].isin(['RTB', 'RBT']))&(df['COLORS'].isin(['D']))]['Type'])\n",
    "Counter(df[(df['NARR_ARC'].isin([6,7,8,9]))&(~df['SHAPES'].isin(['RT', 'RB', 'TB']))&(df['COLORS'].isin(['D']))]['Type'])"
   ]
  },
  {
   "cell_type": "code",
   "execution_count": 134,
   "metadata": {},
   "outputs": [
    {
     "data": {
      "text/plain": [
       "60"
      ]
     },
     "execution_count": 134,
     "metadata": {},
     "output_type": "execute_result"
    }
   ],
   "source": [
    "#df[(df['Type'] == 2)&(~df['SHAPES'].isin(['RT', 'RB', 'TB']))&(df['COLORS']).isin(['D'])].shape[0]\n",
    "#df[(df['Type'] == 2)&(df['SHAPES'].isin(['RT', 'RB', 'TB']))&(~df['COLORS'].isin(['D']))].shape[0]\n",
    "df[(df['Type'] == 2)&(df['SHAPES'].isin(['RT', 'RB', 'TB']))&(df['COLORS'].isin(['D']))].shape[0]"
   ]
  },
  {
   "cell_type": "code",
   "execution_count": 141,
   "metadata": {},
   "outputs": [
    {
     "data": {
      "text/plain": [
       "3"
      ]
     },
     "execution_count": 141,
     "metadata": {},
     "output_type": "execute_result"
    }
   ],
   "source": [
    "#only shape ambiguous \n",
    "#df[(df['Type'] == 2)&(~df['SHAPES'].isin(['RT', 'RB', 'TB']))&(df['COLORS'].isin(['D'])&(df['LLAMIPA-P'] != df['Type']))].shape[0]\n",
    "#only color ambiguous\n",
    "#df[(df['Type'] == 2)&(df['SHAPES'].isin(['RT', 'RB', 'TB']))&(~df['COLORS'].isin(['D'])&(df['LLAMIPA-P'] != df['Type']))].shape[0]\n",
    "#no ambiguity and llamipa wrong\n",
    "#df[(df['Type'] == 2)&(df['SHAPES'].isin(['RT', 'RB', 'TB']))&(df['COLORS'].isin(['D'])&(df['LLAMIPA-P'] != df['Type']))].shape[0]\n",
    "#both ambiguous \n",
    "df[(df['Type'] == 2)&(~df['SHAPES'].isin(['RT', 'RB', 'TB']))&(~df['COLORS'].isin(['D'])&(df['LLAMIPA-P'] != df['Type']))].shape[0]"
   ]
  },
  {
   "cell_type": "code",
   "execution_count": 80,
   "metadata": {},
   "outputs": [
    {
     "data": {
      "text/plain": [
       "32"
      ]
     },
     "execution_count": 80,
     "metadata": {},
     "output_type": "execute_result"
    }
   ],
   "source": [
    "#Counter(df[df['LLAMIPA-P'] != df['Type']]['MERGE'].tolist())\n",
    "len(df[df['LLAMIPA-P'] != df['Type']]['MERGE'].tolist())\n"
   ]
  },
  {
   "cell_type": "markdown",
   "metadata": {},
   "source": [
    "##### Other model scores"
   ]
  },
  {
   "cell_type": "markdown",
   "metadata": {},
   "source": []
  },
  {
   "cell_type": "code",
   "execution_count": 25,
   "metadata": {},
   "outputs": [
    {
     "data": {
      "text/plain": [
       "Counter({1: 100, 2: 73, 3: 64})"
      ]
     },
     "execution_count": 25,
     "metadata": {},
     "output_type": "execute_result"
    }
   ],
   "source": [
    "#Baseline scores \n",
    "Counter(df.loc[df['BASELINE'].isin([0]), 'Type'].tolist())"
   ]
  },
  {
   "cell_type": "code",
   "execution_count": 26,
   "metadata": {},
   "outputs": [
    {
     "data": {
      "text/plain": [
       "Counter({1: 97, 2: 82, 3: 38})"
      ]
     },
     "execution_count": 26,
     "metadata": {},
     "output_type": "execute_result"
    }
   ],
   "source": [
    "#Narr scores \n",
    "Counter(df.loc[df['NARR_ARC'].isin([0]), 'Type'].tolist())"
   ]
  },
  {
   "cell_type": "code",
   "execution_count": 24,
   "metadata": {},
   "outputs": [
    {
     "data": {
      "text/plain": [
       "Counter({1: 100, 2: 75, 3: 66})"
      ]
     },
     "execution_count": 24,
     "metadata": {},
     "output_type": "execute_result"
    }
   ],
   "source": [
    "#Nebulipa Struct\n",
    "Counter(df.loc[df['FULL_STRUCT'].isin([0]), 'Type'].tolist())"
   ]
  },
  {
   "cell_type": "code",
   "execution_count": 27,
   "metadata": {},
   "outputs": [
    {
     "data": {
      "text/plain": [
       "Counter({1: 98, 2: 57, 3: 46})"
      ]
     },
     "execution_count": 27,
     "metadata": {},
     "output_type": "execute_result"
    }
   ],
   "source": [
    "#Nebulipa NO Struct\n",
    "Counter(df.loc[df['FULL_NO_STRUCT'].isin([0]), 'Type'].tolist())"
   ]
  },
  {
   "cell_type": "markdown",
   "metadata": {},
   "source": [
    "##### for those that were incorrect, how many were attached to the wrong structure?"
   ]
  },
  {
   "cell_type": "code",
   "execution_count": 85,
   "metadata": {},
   "outputs": [
    {
     "data": {
      "text/plain": [
       "(Counter({2: 32, 1: 1}), Counter({2: 10}))"
      ]
     },
     "execution_count": 85,
     "metadata": {},
     "output_type": "execute_result"
    }
   ],
   "source": [
    "Counter(df.loc[df['BASELINE']!= 0]['Type'].tolist()), Counter(df.loc[df['BASELINE'].isin([6,7,8,9]), 'Type'].tolist())\n"
   ]
  },
  {
   "cell_type": "code",
   "execution_count": 86,
   "metadata": {},
   "outputs": [
    {
     "data": {
      "text/plain": [
       "(Counter({2: 61, 1: 2}), Counter({2: 22, 1: 1}))"
      ]
     },
     "execution_count": 86,
     "metadata": {},
     "output_type": "execute_result"
    }
   ],
   "source": [
    "Counter(df.loc[df['NARR_ARC']!= 0]['Type'].tolist()), Counter(df.loc[df['NARR_ARC'].isin([6,7,8,9]), 'Type'].tolist())"
   ]
  },
  {
   "cell_type": "code",
   "execution_count": 37,
   "metadata": {},
   "outputs": [
    {
     "data": {
      "text/plain": [
       "(Counter({3: 34, 2: 25}), Counter({2: 5, 3: 2}))"
      ]
     },
     "execution_count": 37,
     "metadata": {},
     "output_type": "execute_result"
    }
   ],
   "source": [
    "Counter(df.loc[df['FULL_STRUCT']!= 0]['Type'].tolist()), Counter(df.loc[df['FULL_STRUCT'].isin([6,7,8,9]), 'Type'].tolist())"
   ]
  },
  {
   "cell_type": "code",
   "execution_count": 39,
   "metadata": {},
   "outputs": [
    {
     "data": {
      "text/plain": [
       "(Counter({3: 54, 2: 43, 1: 2}), Counter({2: 8, 3: 3}))"
      ]
     },
     "execution_count": 39,
     "metadata": {},
     "output_type": "execute_result"
    }
   ],
   "source": [
    "Counter(df.loc[df['FULL_NO_STRUCT']!= 0]['Type'].tolist()), Counter(df.loc[df['FULL_NO_STRUCT'].isin([6,7,8,9]), 'Type'].tolist())"
   ]
  },
  {
   "cell_type": "markdown",
   "metadata": {},
   "source": [
    "##### for those that were incorrect, how many were also incorrectly predicted by llamipa?"
   ]
  },
  {
   "cell_type": "code",
   "execution_count": 30,
   "metadata": {},
   "outputs": [
    {
     "data": {
      "text/plain": [
       "Counter({3: 3})"
      ]
     },
     "execution_count": 30,
     "metadata": {},
     "output_type": "execute_result"
    }
   ],
   "source": [
    "Counter(df[(df['BASELINE'].isin([6,7,8,9]))&(df['LLAMIPA-P'] != df['Type'])]['Type'].tolist())"
   ]
  },
  {
   "cell_type": "code",
   "execution_count": 31,
   "metadata": {},
   "outputs": [
    {
     "data": {
      "text/plain": [
       "Counter({3: 8})"
      ]
     },
     "execution_count": 31,
     "metadata": {},
     "output_type": "execute_result"
    }
   ],
   "source": [
    "Counter(df[(df['NARR_ARC'].isin([6,7,8,9]))&(df['LLAMIPA-P'] != df['Type'])]['Type'].tolist())"
   ]
  },
  {
   "cell_type": "code",
   "execution_count": 32,
   "metadata": {},
   "outputs": [
    {
     "data": {
      "text/plain": [
       "Counter()"
      ]
     },
     "execution_count": 32,
     "metadata": {},
     "output_type": "execute_result"
    }
   ],
   "source": [
    "Counter(df[(df['STRUCT'].isin([6,7,8,9]))&(df['LLAMIPA-P'] != df['Type'])]['Type'].tolist())"
   ]
  },
  {
   "cell_type": "code",
   "execution_count": 33,
   "metadata": {},
   "outputs": [
    {
     "data": {
      "text/plain": [
       "Counter({3: 6})"
      ]
     },
     "execution_count": 33,
     "metadata": {},
     "output_type": "execute_result"
    }
   ],
   "source": [
    "Counter(df[(df['NO_STRUCT'].isin([6,7,8,9]))&(df['LLAMIPA-P'] != df['Type'])]['Type'].tolist())"
   ]
  },
  {
   "cell_type": "code",
   "execution_count": 34,
   "metadata": {},
   "outputs": [
    {
     "data": {
      "text/plain": [
       "Counter({3: 1})"
      ]
     },
     "execution_count": 34,
     "metadata": {},
     "output_type": "execute_result"
    }
   ],
   "source": [
    "Counter(df[(df['FULL_STRUCT'].isin([6,7,8,9]))&(df['LLAMIPA-P'] != df['Type'])]['Type'].tolist())"
   ]
  },
  {
   "cell_type": "code",
   "execution_count": 38,
   "metadata": {},
   "outputs": [
    {
     "data": {
      "text/plain": [
       "Counter({3: 1})"
      ]
     },
     "execution_count": 38,
     "metadata": {},
     "output_type": "execute_result"
    }
   ],
   "source": [
    "Counter(df[(df['FULL_NO_STRUCT'].isin([6,7,8,9]))&(df['LLAMIPA-P'] != df['Type'])]['Type'].tolist())"
   ]
  },
  {
   "cell_type": "code",
   "execution_count": null,
   "metadata": {},
   "outputs": [],
   "source": [
    "#Counter(df['Loc_corr'].tolist())"
   ]
  },
  {
   "cell_type": "code",
   "execution_count": 19,
   "metadata": {},
   "outputs": [
    {
     "data": {
      "text/html": [
       "<div>\n",
       "<style scoped>\n",
       "    .dataframe tbody tr th:only-of-type {\n",
       "        vertical-align: middle;\n",
       "    }\n",
       "\n",
       "    .dataframe tbody tr th {\n",
       "        vertical-align: top;\n",
       "    }\n",
       "\n",
       "    .dataframe thead th {\n",
       "        text-align: right;\n",
       "    }\n",
       "</style>\n",
       "<table border=\"1\" class=\"dataframe\">\n",
       "  <thead>\n",
       "    <tr style=\"text-align: right;\">\n",
       "      <th></th>\n",
       "      <th>Shape</th>\n",
       "      <th>Color</th>\n",
       "      <th>Shape_corr</th>\n",
       "      <th>Size_corr</th>\n",
       "      <th>Loc_corr</th>\n",
       "      <th>Orient_corr</th>\n",
       "      <th>In_bounds</th>\n",
       "      <th>Full_struct_corr</th>\n",
       "    </tr>\n",
       "  </thead>\n",
       "  <tbody>\n",
       "    <tr>\n",
       "      <th>26</th>\n",
       "      <td>square</td>\n",
       "      <td>0</td>\n",
       "      <td>1</td>\n",
       "      <td>1</td>\n",
       "      <td>0.0</td>\n",
       "      <td>NaN</td>\n",
       "      <td>1</td>\n",
       "      <td>0</td>\n",
       "    </tr>\n",
       "    <tr>\n",
       "      <th>53</th>\n",
       "      <td>square</td>\n",
       "      <td>0</td>\n",
       "      <td>1</td>\n",
       "      <td>1</td>\n",
       "      <td>0.0</td>\n",
       "      <td>NaN</td>\n",
       "      <td>1</td>\n",
       "      <td>0</td>\n",
       "    </tr>\n",
       "    <tr>\n",
       "      <th>54</th>\n",
       "      <td>square</td>\n",
       "      <td>0</td>\n",
       "      <td>0</td>\n",
       "      <td>0</td>\n",
       "      <td>0.0</td>\n",
       "      <td>NaN</td>\n",
       "      <td>1</td>\n",
       "      <td>0</td>\n",
       "    </tr>\n",
       "    <tr>\n",
       "      <th>55</th>\n",
       "      <td>square</td>\n",
       "      <td>0</td>\n",
       "      <td>0</td>\n",
       "      <td>0</td>\n",
       "      <td>0.0</td>\n",
       "      <td>NaN</td>\n",
       "      <td>1</td>\n",
       "      <td>0</td>\n",
       "    </tr>\n",
       "  </tbody>\n",
       "</table>\n",
       "</div>"
      ],
      "text/plain": [
       "     Shape  Color  Shape_corr  Size_corr  Loc_corr  Orient_corr  In_bounds  \\\n",
       "26  square      0           1          1       0.0          NaN          1   \n",
       "53  square      0           1          1       0.0          NaN          1   \n",
       "54  square      0           0          0       0.0          NaN          1   \n",
       "55  square      0           0          0       0.0          NaN          1   \n",
       "\n",
       "    Full_struct_corr  \n",
       "26                 0  \n",
       "53                 0  \n",
       "54                 0  \n",
       "55                 0  "
      ]
     },
     "execution_count": 19,
     "metadata": {},
     "output_type": "execute_result"
    }
   ],
   "source": [
    "#which samples didn't get color right? Only when the moves were botched\n",
    "df.loc[df['Color'] == 0]"
   ]
  },
  {
   "cell_type": "code",
   "execution_count": 9,
   "metadata": {},
   "outputs": [
    {
     "data": {
      "text/plain": [
       "Counter({'tower': 168,\n",
       "         'row': 166,\n",
       "         'rectangle': 83,\n",
       "         'square': 77,\n",
       "         'diagonal': 76,\n",
       "         'cube': 20})"
      ]
     },
     "execution_count": 9,
     "metadata": {},
     "output_type": "execute_result"
    }
   ],
   "source": [
    "#what the breakdown of correct and incorrect shapes?\n",
    "#Correct:\n",
    "Counter(df.loc[df['Shape_corr'] == 1, 'Shape'].tolist())"
   ]
  },
  {
   "cell_type": "code",
   "execution_count": 10,
   "metadata": {},
   "outputs": [
    {
     "data": {
      "text/plain": [
       "Counter({'diagonal': 92,\n",
       "         'square': 75,\n",
       "         'diamond': 52,\n",
       "         'rectangle': 46,\n",
       "         'cube': 4,\n",
       "         'row': 2})"
      ]
     },
     "execution_count": 10,
     "metadata": {},
     "output_type": "execute_result"
    }
   ],
   "source": [
    "#what the breakdown of correct and incorrect shapes?\n",
    "#INorrect:\n",
    "Counter(df.loc[df['Shape_corr'] == 0, 'Shape'].tolist())"
   ]
  },
  {
   "cell_type": "code",
   "execution_count": null,
   "metadata": {},
   "outputs": [],
   "source": [
    "#Incorrect:\n",
    "Counter(df.loc[df['Shape_corr'].isin([0,1]), 'Shape'].tolist())"
   ]
  },
  {
   "cell_type": "code",
   "execution_count": 12,
   "metadata": {},
   "outputs": [
    {
     "data": {
      "text/plain": [
       "Counter({'tower': 168,\n",
       "         'row': 164,\n",
       "         'square': 77,\n",
       "         'diagonal': 73,\n",
       "         'rectangle': 18,\n",
       "         'cube': 14})"
      ]
     },
     "execution_count": 12,
     "metadata": {},
     "output_type": "execute_result"
    }
   ],
   "source": [
    "#what the breakdown of correct and incorrect sizes?\n",
    "#Correct:\n",
    "Counter(df.loc[df['Size_corr'] == 1, 'Shape'].tolist())"
   ]
  },
  {
   "cell_type": "code",
   "execution_count": null,
   "metadata": {},
   "outputs": [],
   "source": [
    "#what the breakdown of correct and incorrect locations?\n",
    "#Correct:\n",
    "Counter(df.loc[df['Loc_corr'] == 1, 'Shape'].tolist())"
   ]
  },
  {
   "cell_type": "code",
   "execution_count": null,
   "metadata": {},
   "outputs": [],
   "source": [
    "Counter(df[(df['Size_corr'] == 0)&(df['Shape_corr'] == 1)]['Shape'].tolist())"
   ]
  },
  {
   "cell_type": "code",
   "execution_count": 13,
   "metadata": {},
   "outputs": [
    {
     "data": {
      "text/plain": [
       "Counter({'tower': 142,\n",
       "         'row': 135,\n",
       "         'rectangle': 77,\n",
       "         'diagonal': 66,\n",
       "         'square': 58,\n",
       "         'cube': 15})"
      ]
     },
     "execution_count": 13,
     "metadata": {},
     "output_type": "execute_result"
    }
   ],
   "source": [
    "Counter(df[(df['Loc_corr'].isin([1,0]))&(df['Shape_corr'] == 1)]['Shape'].tolist())"
   ]
  },
  {
   "cell_type": "code",
   "execution_count": 14,
   "metadata": {},
   "outputs": [
    {
     "data": {
      "text/plain": [
       "Counter({'row': 70,\n",
       "         'tower': 64,\n",
       "         'rectangle': 41,\n",
       "         'diagonal': 14,\n",
       "         'square': 7,\n",
       "         'cube': 4})"
      ]
     },
     "execution_count": 14,
     "metadata": {},
     "output_type": "execute_result"
    }
   ],
   "source": [
    "Counter(df[(df['Loc_corr'] == 1)&(df['Shape_corr'] == 1)]['Shape'].tolist())"
   ]
  },
  {
   "cell_type": "code",
   "execution_count": null,
   "metadata": {},
   "outputs": [],
   "source": [
    "#Shape corr and location specified\n",
    "Counter(df[(df['Shape_corr'] == 1)&(df['Loc_corr'].isin([1,0]))]['Shape'].tolist())"
   ]
  },
  {
   "cell_type": "code",
   "execution_count": 15,
   "metadata": {},
   "outputs": [
    {
     "data": {
      "text/plain": [
       "Counter({'rectangle': 2, 'row': 2, 'diagonal': 2})"
      ]
     },
     "execution_count": 15,
     "metadata": {},
     "output_type": "execute_result"
    }
   ],
   "source": [
    "#Shape corr and is in bounds\n",
    "Counter(df[(df['Shape_corr'] == 1)&(df['In_bounds'] == 0)&(df['Loc_corr'].isin([0, 1]))]['Shape'].tolist())"
   ]
  },
  {
   "cell_type": "code",
   "execution_count": null,
   "metadata": {},
   "outputs": [],
   "source": [
    "#Shape corr and is in bounds\n",
    "Counter(df[(df['Shape_corr'] == 1)&(df['In_bounds'] == 0)&(df['Loc_corr'].isin([1]))]['Shape'].tolist())"
   ]
  },
  {
   "cell_type": "code",
   "execution_count": 16,
   "metadata": {},
   "outputs": [
    {
     "data": {
      "text/plain": [
       "Counter({'rectangle': 79, 'square': 72})"
      ]
     },
     "execution_count": 16,
     "metadata": {},
     "output_type": "execute_result"
    }
   ],
   "source": [
    "Counter(df[(df['Orient_corr'].isin([1,0]))&(df['Shape_corr'] == 1)]['Shape'].tolist())"
   ]
  },
  {
   "cell_type": "code",
   "execution_count": 17,
   "metadata": {},
   "outputs": [
    {
     "data": {
      "text/plain": [
       "Counter({'rectangle': 75, 'square': 68})"
      ]
     },
     "execution_count": 17,
     "metadata": {},
     "output_type": "execute_result"
    }
   ],
   "source": [
    "Counter(df[(df['Orient_corr'].isin([1]))&(df['Shape_corr'] == 1)]['Shape'].tolist())"
   ]
  },
  {
   "cell_type": "code",
   "execution_count": null,
   "metadata": {},
   "outputs": [],
   "source": [
    "#get orientation types\n",
    "indices = df.index[(df['Orient_corr'].isin([1]))&(df['Shape_corr'] == 1)].tolist()"
   ]
  },
  {
   "cell_type": "code",
   "execution_count": null,
   "metadata": {},
   "outputs": [],
   "source": [
    "json_path = home +  '/llama_aug_synth_function_output_v2.json'\n",
    "\n",
    "with open(json_path, 'r') as j:\n",
    "    jfile = json.load(j)\n",
    "    samples = jfile"
   ]
  },
  {
   "cell_type": "code",
   "execution_count": null,
   "metadata": {},
   "outputs": [],
   "source": [
    "orient_dict = defaultdict(list)\n",
    "\n",
    "for sample in samples:\n",
    "    shape = sample['shape'] \n",
    "    if sample['index'] in indices:\n",
    "        orient_dict[shape].append(sample['orient'])\n",
    "        "
   ]
  },
  {
   "cell_type": "code",
   "execution_count": null,
   "metadata": {},
   "outputs": [],
   "source": [
    "Counter(orient_dict['square'])"
   ]
  },
  {
   "cell_type": "code",
   "execution_count": null,
   "metadata": {},
   "outputs": [],
   "source": [
    "Counter(orient_dict['diamond'])"
   ]
  },
  {
   "cell_type": "markdown",
   "metadata": {},
   "source": [
    "#### for each incorrect square, get the instruction size, then check if square"
   ]
  },
  {
   "cell_type": "code",
   "execution_count": null,
   "metadata": {},
   "outputs": [],
   "source": [
    "import functions as fn"
   ]
  },
  {
   "cell_type": "code",
   "execution_count": null,
   "metadata": {},
   "outputs": [],
   "source": [
    "rec_squares = [['index', 'inst_size', 'rec_size']]"
   ]
  },
  {
   "cell_type": "code",
   "execution_count": null,
   "metadata": {},
   "outputs": [],
   "source": [
    "#get squares that are wrong because they are rectangles -- maybe try \"is rectangle\" in these cases\n",
    "indices = df.index[df['Shape'].isin(['square'])& df['Shape_corr'].isin([0])].tolist()"
   ]
  },
  {
   "cell_type": "code",
   "execution_count": null,
   "metadata": {},
   "outputs": [],
   "source": [
    "len(indices)"
   ]
  },
  {
   "cell_type": "code",
   "execution_count": null,
   "metadata": {},
   "outputs": [],
   "source": [
    "indices[:3]"
   ]
  },
  {
   "cell_type": "code",
   "execution_count": null,
   "metadata": {},
   "outputs": [],
   "source": [
    "# json_path = home + '/llama_synth_function_output.json'\n",
    "\n",
    "# with open(json_path, 'r') as j:\n",
    "#     jfile = json.load(j)\n",
    "#     samples = jfile"
   ]
  },
  {
   "cell_type": "code",
   "execution_count": null,
   "metadata": {},
   "outputs": [],
   "source": [
    "for ind in indices:\n",
    "    shape = samples[ind]['shape']\n",
    "    inst = samples[ind]['size']\n",
    "    seq = samples[ind]['net_seq']\n",
    "    rec_size = None\n",
    "    is_rectu = fn.is_rectangle_unfilled(seq)\n",
    "    is_rect = fn.is_rectangle(seq)\n",
    "    if is_rect:\n",
    "        rec_size = is_rect[1]\n",
    "    elif is_rectu:\n",
    "        rect_size = is_rectu[1]\n",
    "    rec_squares.append([ind, inst, rec_size])\n",
    "\n"
   ]
  },
  {
   "cell_type": "code",
   "execution_count": null,
   "metadata": {},
   "outputs": [],
   "source": [
    "rec_squares"
   ]
  },
  {
   "cell_type": "code",
   "execution_count": null,
   "metadata": {},
   "outputs": [],
   "source": [
    "len(rec_squares)"
   ]
  },
  {
   "cell_type": "code",
   "execution_count": null,
   "metadata": {},
   "outputs": [],
   "source": []
  },
  {
   "cell_type": "code",
   "execution_count": null,
   "metadata": {},
   "outputs": [],
   "source": [
    "import csv\n",
    "square_path = home + '/rec_squares.csv'"
   ]
  },
  {
   "cell_type": "code",
   "execution_count": null,
   "metadata": {},
   "outputs": [],
   "source": [
    "with open(square_path, 'w', newline='') as cfile:\n",
    "    writer = csv.writer(cfile)\n",
    "    writer.writerows(rec_squares)"
   ]
  },
  {
   "cell_type": "code",
   "execution_count": null,
   "metadata": {},
   "outputs": [],
   "source": [
    "indices = df.index[(df['Shape'].isin(['square']))&(df['Shape_corr'] == 1)].tolist()"
   ]
  },
  {
   "cell_type": "code",
   "execution_count": null,
   "metadata": {},
   "outputs": [],
   "source": [
    "indices"
   ]
  }
 ],
 "metadata": {
  "kernelspec": {
   "display_name": "huggingface",
   "language": "python",
   "name": "python3"
  },
  "language_info": {
   "codemirror_mode": {
    "name": "ipython",
    "version": 3
   },
   "file_extension": ".py",
   "mimetype": "text/x-python",
   "name": "python",
   "nbconvert_exporter": "python",
   "pygments_lexer": "ipython3",
   "version": "3.9.19"
  }
 },
 "nbformat": 4,
 "nbformat_minor": 2
}
