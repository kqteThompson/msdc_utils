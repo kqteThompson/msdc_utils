{
 "cells": [
  {
   "cell_type": "code",
   "execution_count": 71,
   "metadata": {},
   "outputs": [],
   "source": [
    "map_rels_no = {'COM':0, 'CONTR':1, 'CORR':2, 'QAP':3, 'ACK':4,'ELAB':5,\n",
    "                 'CLARIFQ':6, 'COND':7, 'CONTIN':8, 'RES':9, 'EXPL':10, 'QELAB':11,\n",
    "                 'ALT':12, 'NARR':13, 'CONFQ':14, 'SEQ':15, 'NULL':16}\n",
    "\n",
    "# reverse_relations = {0:'COM', 1: 'CONTR', 2 :'CORR', 3: 'QAP', 4: 'ACK', 5: 'ELAB',\n",
    "#             6: 'CLARIFQ', 7: 'COND', 8: 'CONTIN', 9: 'RES', 10: 'EXPL',\n",
    "#             11: 'QELAB', 12: 'ALT', 13: 'NARR', 14: 'CONFQ', 15: 'SEQ', 16: 'NULL'}\n",
    "\n",
    "reverse_relations = {'Comment':0, 'Contrast':1, 'Correction':2, 'Question-answer_pair':3, 'Acknowledgement':4,'Elaboration':5,\n",
    "                 'Clarification_question':6, 'Conditional':7, 'Continuation':8, 'Result':9, 'Explanation':10, 'Q-Elab':11,\n",
    "                 'Alternation':12, 'Narration':13, 'Confirmation_question':14, 'Sequence':15, 'Break':16}"
   ]
  },
  {
   "cell_type": "code",
   "execution_count": 73,
   "metadata": {},
   "outputs": [],
   "source": [
    "map_rels_str = {'Comment':'COM', 'Contrast':'CONTR', 'Correction':'CORR', 'Question-answer_pair':'QAP', 'Acknowledgement':'ACK','Elaboration':'ELAB',\n",
    "                 'Clarification_question':'CLARIFQ', 'Conditional':'COND', 'Continuation':'CONTIN', 'Result':'RES', 'Explanation':'EXPL', 'Q-Elab':'QELAB',\n",
    "                 'Alternation':'ALT', 'Narration':'NARR', 'Background':'BACK', 'Parallel':'PAR', 'Sequence':'SEQ', 'Question_answer_pair':'QAP',  \n",
    "                 'Q_Elab':'QELAB', 'Confirmation_question' : 'CONFQ'}\n"
   ]
  },
  {
   "cell_type": "markdown",
   "metadata": {},
   "source": [
    "## DU and relation counts"
   ]
  },
  {
   "cell_type": "code",
   "execution_count": 101,
   "metadata": {},
   "outputs": [],
   "source": [
    "#STAC COUNTS real quick\n",
    "import json\n",
    "from collections import Counter, defaultdict\n",
    "home=%pwd\n",
    "stac_path = home + '/stac_linguistic_flat_train.json'\n",
    "bad_path = '/home/kate/minecraft_utils/llm_annotator/stac/stac_linguistic_corrected/train_data.json'\n",
    "squished_path = '/home/kate/minecraft_utils/llm_annotator/stac/stac_squished_corrected/train_data.json'\n",
    "#msdc_path = '/home/kate/MSDC_linagora/data/TRAIN+VAL_407_bert.json'\n",
    "msdc_path = '/home/kate/MSDC_linagora/data/TEST_133.json'\n",
    "\n"
   ]
  },
  {
   "cell_type": "code",
   "execution_count": 102,
   "metadata": {},
   "outputs": [],
   "source": [
    "with open(bad_path, 'r') as j:\n",
    "    jfile = json.load(j)\n",
    "    data = jfile"
   ]
  },
  {
   "cell_type": "code",
   "execution_count": 103,
   "metadata": {},
   "outputs": [
    {
     "data": {
      "text/plain": [
       "dict_keys(['id', 'edus', 'relations'])"
      ]
     },
     "execution_count": 103,
     "metadata": {},
     "output_type": "execute_result"
    }
   ],
   "source": [
    "data[0].keys()"
   ]
  },
  {
   "cell_type": "code",
   "execution_count": 104,
   "metadata": {},
   "outputs": [],
   "source": [
    "#num edus for stac squished\n",
    "eeu = 0\n",
    "edu = 0\n",
    "for d in data:\n",
    "    for e in d['edus']:\n",
    "        if e['speaker'] in ['Server', 'UI']:\n",
    "            eeu+= 1\n",
    "        else:\n",
    "            edu += 1"
   ]
  },
  {
   "cell_type": "code",
   "execution_count": 105,
   "metadata": {},
   "outputs": [
    {
     "data": {
      "text/plain": [
       "(0, 11898)"
      ]
     },
     "execution_count": 105,
     "metadata": {},
     "output_type": "execute_result"
    }
   ],
   "source": [
    "eeu, edu"
   ]
  },
  {
   "cell_type": "code",
   "execution_count": 86,
   "metadata": {},
   "outputs": [
    {
     "data": {
      "text/plain": [
       "(11707, 11566)"
      ]
     },
     "execution_count": 86,
     "metadata": {},
     "output_type": "execute_result"
    }
   ],
   "source": [
    "eeu, edu"
   ]
  },
  {
   "cell_type": "code",
   "execution_count": 79,
   "metadata": {},
   "outputs": [
    {
     "data": {
      "text/plain": [
       "[{'text': \"It's inca's turn to roll the dice.\", 'speaker': 'Server'},\n",
       " {'text': 'inca rolled a 3 and a 3.', 'speaker': 'Server'},\n",
       " {'text': 'inca gets 1 wheat. nareik15 gets 1 wheat.', 'speaker': 'Server'},\n",
       " {'text': 'inca has 7 resources. nareik15 has 10 resources. yiin has 3 resources. Gaeilgeoir has 4 resources.',\n",
       "  'speaker': 'UI'},\n",
       " {'text': 'anyone got sheep?', 'speaker': 'inca'},\n",
       " {'text': 'I can give anything but clay', 'speaker': 'inca'},\n",
       " {'text': 'sorry,', 'speaker': 'Gaeilgeoir'},\n",
       " {'text': \"I don't.\", 'speaker': 'Gaeilgeoir'},\n",
       " {'text': 'sorry', 'speaker': 'nareik15'},\n",
       " {'text': 'inca ended their turn.', 'speaker': 'UI'},\n",
       " {'text': \"It's nareik15's turn to roll the dice.\", 'speaker': 'Server'},\n",
       " {'text': 'nareik15 played a Year of Plenty card.', 'speaker': 'Server'},\n",
       " {'text': 'nareik15 received 2 clay from the bank.', 'speaker': 'Server'},\n",
       " {'text': \"It's nareik15's turn to roll the dice.\", 'speaker': 'Server'},\n",
       " {'text': 'nareik15 rolled a 3 and a 2.', 'speaker': 'Server'},\n",
       " {'text': 'inca gets 1 ore. nareik15 gets 1 ore.', 'speaker': 'Server'},\n",
       " {'text': 'inca has 8 resources. nareik15 has 13 resources. yiin has 3 resources. Gaeilgeoir has 4 resources.',\n",
       "  'speaker': 'UI'},\n",
       " {'text': 'nareik15 built a road.', 'speaker': 'Server'},\n",
       " {'text': 'i got one', 'speaker': 'yiin'},\n",
       " {'text': 'i can give you', 'speaker': 'yiin'}]"
      ]
     },
     "execution_count": 79,
     "metadata": {},
     "output_type": "execute_result"
    }
   ],
   "source": [
    "data[0]['edus'][:20]"
   ]
  },
  {
   "cell_type": "code",
   "execution_count": 62,
   "metadata": {},
   "outputs": [
    {
     "data": {
      "text/plain": [
       "[{'x': 0, 'y': 1, 'type': 'Acknowledgement'},\n",
       " {'x': 0, 'y': 2, 'type': 'Continuation'},\n",
       " {'x': 2, 'y': 3, 'type': 'Elaboration'}]"
      ]
     },
     "execution_count": 62,
     "metadata": {},
     "output_type": "execute_result"
    }
   ],
   "source": [
    "data[0]['relations'][:3]"
   ]
  },
  {
   "cell_type": "code",
   "execution_count": 69,
   "metadata": {},
   "outputs": [
    {
     "name": "stdout",
     "output_type": "stream",
     "text": [
      "mpdus:  1476\n"
     ]
    }
   ],
   "source": [
    "mpdu = 0\n",
    "mpdu_nums = []\n",
    "for d in data:\n",
    "    \n",
    "    rels_count = Counter([g['y'] for g in d['relations']])\n",
    "    mps = [r[1] for r in rels_count.items() if r[1] > 1] \n",
    "    mpdu_nums.extend(mps)\n",
    "    mpdu += len(mps)\n",
    "\n",
    "print(\"mpdus: \", mpdu)"
   ]
  },
  {
   "cell_type": "code",
   "execution_count": 70,
   "metadata": {},
   "outputs": [
    {
     "data": {
      "text/plain": [
       "Counter({2: 1438, 3: 35, 4: 3})"
      ]
     },
     "execution_count": 70,
     "metadata": {},
     "output_type": "execute_result"
    }
   ],
   "source": [
    "Counter(mpdu_nums)"
   ]
  },
  {
   "cell_type": "code",
   "execution_count": null,
   "metadata": {},
   "outputs": [],
   "source": []
  },
  {
   "cell_type": "code",
   "execution_count": null,
   "metadata": {},
   "outputs": [],
   "source": []
  },
  {
   "cell_type": "markdown",
   "metadata": {},
   "source": [
    "### FLATTEN ALL DATA"
   ]
  },
  {
   "cell_type": "markdown",
   "metadata": {},
   "source": [
    "#### backwards relations"
   ]
  },
  {
   "cell_type": "code",
   "execution_count": 59,
   "metadata": {},
   "outputs": [],
   "source": [
    "bkwds = defaultdict(list)\n",
    "for d in data:\n",
    "    for rel in d['relations']:\n",
    "        if rel['y'] < rel['x']:\n",
    "            bkwds[map_rels_str[rel['type']]].append(rel['y'] - rel['x'])"
   ]
  },
  {
   "cell_type": "code",
   "execution_count": 60,
   "metadata": {},
   "outputs": [
    {
     "name": "stdout",
     "output_type": "stream",
     "text": [
      "COM rel : 147\n",
      "COND rel : 7\n"
     ]
    }
   ],
   "source": [
    "for k in bkwds.keys():\n",
    "    print('{} rel : {}'.format(k, len(bkwds[k])))"
   ]
  },
  {
   "cell_type": "markdown",
   "metadata": {},
   "source": [
    "STAC SQUISHED\n",
    "COND rel : 68\n",
    "COM rel : 57\n",
    "EXPL rel : 4\n",
    "BACK rel : 10\n",
    "ELAB rel : 3\n",
    "\n",
    "STAC LINGUISTIC\n",
    "COND rel : 67\n",
    "CONTIN rel : 1\n",
    "COM rel : 61\n",
    "BACK rel : 8\n",
    "ELAB rel : 3\n",
    "EXPL rel : 8"
   ]
  },
  {
   "cell_type": "code",
   "execution_count": null,
   "metadata": {},
   "outputs": [],
   "source": [
    "edus = 0\n",
    "eeus = 0\n",
    "for d in stac['dialogues']:\n",
    "    total_dus = len(d['edus'])\n",
    "    eeu_count = len([e for e in d['edus'] if e['speaker'] in ['UI', 'Server']])\n",
    "    eeus += eeu_count\n",
    "    edu_count = total_dus - eeu_count\n",
    "    edus += edu_count\n",
    "\n",
    "print(\"edus: \", edus)\n",
    "print(\"eeus: \", eeus)"
   ]
  },
  {
   "cell_type": "code",
   "execution_count": null,
   "metadata": {},
   "outputs": [],
   "source": [
    "cdus = 0\n",
    "for d in stac['dialogues']:\n",
    "    cdus += len(d['cdus'])\n",
    "\n",
    "print(\"cdus: \", cdus)\n"
   ]
  },
  {
   "cell_type": "code",
   "execution_count": null,
   "metadata": {},
   "outputs": [],
   "source": [
    "rels = 0\n",
    "for d in stac['dialogues']:\n",
    "    rels += len(d['relations'])\n",
    "\n",
    "print(\"rels: \", rels)"
   ]
  },
  {
   "cell_type": "code",
   "execution_count": null,
   "metadata": {},
   "outputs": [],
   "source": []
  }
 ],
 "metadata": {
  "kernelspec": {
   "display_name": "huggingface",
   "language": "python",
   "name": "python3"
  },
  "language_info": {
   "codemirror_mode": {
    "name": "ipython",
    "version": 3
   },
   "file_extension": ".py",
   "mimetype": "text/x-python",
   "name": "python",
   "nbconvert_exporter": "python",
   "pygments_lexer": "ipython3",
   "version": "3.9.19"
  }
 },
 "nbformat": 4,
 "nbformat_minor": 2
}
